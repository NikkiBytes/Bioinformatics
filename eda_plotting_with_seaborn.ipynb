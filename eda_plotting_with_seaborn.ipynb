{
  "nbformat": 4,
  "nbformat_minor": 0,
  "metadata": {
    "colab": {
      "name": "eda_plotting_with_seaborn.ipynb",
      "provenance": [],
      "collapsed_sections": [],
      "include_colab_link": true
    },
    "kernelspec": {
      "name": "python3",
      "display_name": "Python 3"
    }
  },
  "cells": [
    {
      "cell_type": "markdown",
      "metadata": {
        "id": "view-in-github",
        "colab_type": "text"
      },
      "source": [
        "<a href=\"https://colab.research.google.com/github/NikkiBytes/Bioinformatics/blob/master/eda_plotting_with_seaborn.ipynb\" target=\"_parent\"><img src=\"https://colab.research.google.com/assets/colab-badge.svg\" alt=\"Open In Colab\"/></a>"
      ]
    },
    {
      "cell_type": "markdown",
      "metadata": {
        "id": "F9W_6uB5vNYG",
        "colab_type": "text"
      },
      "source": [
        "# Plotting with Seaborn"
      ]
    },
    {
      "cell_type": "markdown",
      "metadata": {
        "id": "qrEF9Uqdvg9E",
        "colab_type": "text"
      },
      "source": [
        "The Python visualization library, **Seaborn**, is a great plotting tool for data visualization and pattern discovery.    \n",
        "<br>\n",
        "To install the latest release of seaborn run: \n",
        "* `pip install seaborn`, or,\n",
        "* `conda install seaborn`"
      ]
    },
    {
      "cell_type": "code",
      "metadata": {
        "id": "mjY1S6B5yWdn",
        "colab_type": "code",
        "colab": {
          "base_uri": "https://localhost:8080/",
          "height": 122
        },
        "outputId": "87095705-b1c2-45c9-e79c-a00a9c3eeee0"
      },
      "source": [
        "from google.colab import drive\n",
        "drive.mount('/content/drive')"
      ],
      "execution_count": 9,
      "outputs": [
        {
          "output_type": "stream",
          "text": [
            "Go to this URL in a browser: https://accounts.google.com/o/oauth2/auth?client_id=947318989803-6bn6qk8qdgf4n4g3pfee6491hc0brc4i.apps.googleusercontent.com&redirect_uri=urn%3aietf%3awg%3aoauth%3a2.0%3aoob&response_type=code&scope=email%20https%3a%2f%2fwww.googleapis.com%2fauth%2fdocs.test%20https%3a%2f%2fwww.googleapis.com%2fauth%2fdrive%20https%3a%2f%2fwww.googleapis.com%2fauth%2fdrive.photos.readonly%20https%3a%2f%2fwww.googleapis.com%2fauth%2fpeopleapi.readonly\n",
            "\n",
            "Enter your authorization code:\n",
            "··········\n",
            "Mounted at /content/drive\n"
          ],
          "name": "stdout"
        }
      ]
    },
    {
      "cell_type": "code",
      "metadata": {
        "id": "X5AzSv_fvxPI",
        "colab_type": "code",
        "colab": {}
      },
      "source": [
        "# import dependencies\n",
        "%matplotlib inline\n",
        "\n",
        "# system tools\n",
        "import os, glob\n",
        "# data loading, manipulation tools\n",
        "import pandas as pd\n",
        "import numpy as np\n",
        "# visualization tools\n",
        "import seaborn as sns\n",
        "import matplotlib.pyplot as plt\n",
        "from mpl_toolkits.mplot3d import Axes3D\n"
      ],
      "execution_count": 0,
      "outputs": []
    },
    {
      "cell_type": "markdown",
      "metadata": {
        "id": "ETFeSH-WvhD-",
        "colab_type": "text"
      },
      "source": [
        ""
      ]
    },
    {
      "cell_type": "code",
      "metadata": {
        "id": "lTnPo_1ZjWXO",
        "colab_type": "code",
        "colab": {
          "base_uri": "https://localhost:8080/",
          "height": 207
        },
        "outputId": "2a7839c7-a7eb-4618-f32d-7f4f86915985"
      },
      "source": [
        "# make file list\n",
        "csv_list = glob.glob('/content/drive/My Drive/Projects/16-3177_Bromo/1_data/clean_data/clean_outputs/*csv')\n",
        "csv_list"
      ],
      "execution_count": 30,
      "outputs": [
        {
          "output_type": "execute_result",
          "data": {
            "text/plain": [
              "['/content/drive/My Drive/Projects/16-3177_Bromo/1_data/clean_data/clean_outputs/bro_screening_data.csv',\n",
              " '/content/drive/My Drive/Projects/16-3177_Bromo/1_data/clean_data/clean_outputs/bro_survey_data_str.csv',\n",
              " '/content/drive/My Drive/Projects/16-3177_Bromo/1_data/clean_data/clean_outputs/bro_vas_data.csv',\n",
              " '/content/drive/My Drive/Projects/16-3177_Bromo/1_data/clean_data/clean_outputs/bro_taste_test_data.csv',\n",
              " '/content/drive/My Drive/Projects/16-3177_Bromo/1_data/clean_data/clean_outputs/bro_survey_data_calc.csv',\n",
              " '/content/drive/My Drive/Projects/16-3177_Bromo/1_data/clean_data/clean_outputs/bro_survey_data_num.csv',\n",
              " '/content/drive/My Drive/Projects/16-3177_Bromo/1_data/clean_data/clean_outputs/bro_check_data_01_31_2020.csv',\n",
              " '/content/drive/My Drive/Projects/16-3177_Bromo/1_data/clean_data/clean_outputs/bro_blood_data_02_06_2020_10.19.csv',\n",
              " '/content/drive/My Drive/Projects/16-3177_Bromo/1_data/clean_data/clean_outputs/bro_taqstatus.csv',\n",
              " '/content/drive/My Drive/Projects/16-3177_Bromo/1_data/clean_data/clean_outputs/bro_demographics.csv']"
            ]
          },
          "metadata": {
            "tags": []
          },
          "execution_count": 30
        }
      ]
    },
    {
      "cell_type": "code",
      "metadata": {
        "id": "Zpm8XbpwyLzq",
        "colab_type": "code",
        "colab": {}
      },
      "source": [
        "taq_data=pd.read_csv(csv_list[-2], index_col=\"participantID\")\n",
        "taq_data.drop(\"preID\",axis=1, inplace=True)\n",
        "vas_data=pd.read_csv(csv_list[3], index_col=\"participantID\")"
      ],
      "execution_count": 0,
      "outputs": []
    },
    {
      "cell_type": "code",
      "metadata": {
        "id": "jgsBjI_1yMWo",
        "colab_type": "code",
        "colab": {
          "base_uri": "https://localhost:8080/",
          "height": 374
        },
        "outputId": "b3a22643-8d3c-484a-85b3-31782097be06"
      },
      "source": [
        "vas_data.head()\n",
        "#vas_data.columns.values"
      ],
      "execution_count": 50,
      "outputs": [
        {
          "output_type": "execute_result",
          "data": {
            "text/html": [
              "<div>\n",
              "<style scoped>\n",
              "    .dataframe tbody tr th:only-of-type {\n",
              "        vertical-align: middle;\n",
              "    }\n",
              "\n",
              "    .dataframe tbody tr th {\n",
              "        vertical-align: top;\n",
              "    }\n",
              "\n",
              "    .dataframe thead th {\n",
              "        text-align: right;\n",
              "    }\n",
              "</style>\n",
              "<table border=\"1\" class=\"dataframe\">\n",
              "  <thead>\n",
              "    <tr style=\"text-align: right;\">\n",
              "      <th></th>\n",
              "      <th>StartDate_v1</th>\n",
              "      <th>Duration (in seconds)_v1</th>\n",
              "      <th>Finished_v1</th>\n",
              "      <th>logo1pleasant_1_v1</th>\n",
              "      <th>logo2pleasant_1_v1</th>\n",
              "      <th>milkshakepleasant_1_v1</th>\n",
              "      <th>milkshakedesire_1_v1</th>\n",
              "      <th>milkshakesweet_1_v1</th>\n",
              "      <th>milkshakeintense_1_v1</th>\n",
              "      <th>mmpleasant_1_v1</th>\n",
              "      <th>mmdesire_1_v1</th>\n",
              "      <th>mmsweet_1_v1</th>\n",
              "      <th>mmintense_1_v1</th>\n",
              "      <th>skittpleasant_1_v1</th>\n",
              "      <th>skittdesire_1_v1</th>\n",
              "      <th>skittsweet_1_v1</th>\n",
              "      <th>skittintense_1_v1</th>\n",
              "      <th>poppleasant_1_v1</th>\n",
              "      <th>popdesire_1_v1</th>\n",
              "      <th>popsavory_1_v1</th>\n",
              "      <th>popintense_1_v1</th>\n",
              "      <th>dorpleasant_1_v1</th>\n",
              "      <th>dordesire_1_v1</th>\n",
              "      <th>dorsavory_1_v1</th>\n",
              "      <th>dorintense_1_v1</th>\n",
              "      <th>StartDate_v2</th>\n",
              "      <th>Duration (in seconds)_v2</th>\n",
              "      <th>Finished_v2</th>\n",
              "      <th>logo1pleasant_1_v2</th>\n",
              "      <th>logo2pleasant_1_v2</th>\n",
              "      <th>milkshakepleasant_1_v2</th>\n",
              "      <th>milkshakedesire_1_v2</th>\n",
              "      <th>milkshakesweet_1_v2</th>\n",
              "      <th>milkshakeintense_1_v2</th>\n",
              "      <th>mmpleasant_1_v2</th>\n",
              "      <th>mmdesire_1_v2</th>\n",
              "      <th>mmsweet_1_v2</th>\n",
              "      <th>mmintense_1_v2</th>\n",
              "      <th>skittpleasant_1_v2</th>\n",
              "      <th>skittdesire_1_v2</th>\n",
              "      <th>skittsweet_1_v2</th>\n",
              "      <th>skittintense_1_v2</th>\n",
              "      <th>poppleasant_1_v2</th>\n",
              "      <th>popdesire_1_v2</th>\n",
              "      <th>popsavory_1_v2</th>\n",
              "      <th>popintense_1_v2</th>\n",
              "      <th>dorpleasant_1_v2</th>\n",
              "      <th>dordesire_1_v2</th>\n",
              "      <th>dorsavory_1_v2</th>\n",
              "      <th>dorintense_1_v2</th>\n",
              "    </tr>\n",
              "    <tr>\n",
              "      <th>participantID</th>\n",
              "      <th></th>\n",
              "      <th></th>\n",
              "      <th></th>\n",
              "      <th></th>\n",
              "      <th></th>\n",
              "      <th></th>\n",
              "      <th></th>\n",
              "      <th></th>\n",
              "      <th></th>\n",
              "      <th></th>\n",
              "      <th></th>\n",
              "      <th></th>\n",
              "      <th></th>\n",
              "      <th></th>\n",
              "      <th></th>\n",
              "      <th></th>\n",
              "      <th></th>\n",
              "      <th></th>\n",
              "      <th></th>\n",
              "      <th></th>\n",
              "      <th></th>\n",
              "      <th></th>\n",
              "      <th></th>\n",
              "      <th></th>\n",
              "      <th></th>\n",
              "      <th></th>\n",
              "      <th></th>\n",
              "      <th></th>\n",
              "      <th></th>\n",
              "      <th></th>\n",
              "      <th></th>\n",
              "      <th></th>\n",
              "      <th></th>\n",
              "      <th></th>\n",
              "      <th></th>\n",
              "      <th></th>\n",
              "      <th></th>\n",
              "      <th></th>\n",
              "      <th></th>\n",
              "      <th></th>\n",
              "      <th></th>\n",
              "      <th></th>\n",
              "      <th></th>\n",
              "      <th></th>\n",
              "      <th></th>\n",
              "      <th></th>\n",
              "      <th></th>\n",
              "      <th></th>\n",
              "      <th></th>\n",
              "      <th></th>\n",
              "    </tr>\n",
              "  </thead>\n",
              "  <tbody>\n",
              "    <tr>\n",
              "      <th>bro_001</th>\n",
              "      <td>2017-10-25 16:22:54</td>\n",
              "      <td>1645</td>\n",
              "      <td>True</td>\n",
              "      <td>19</td>\n",
              "      <td>3</td>\n",
              "      <td>21</td>\n",
              "      <td>-46</td>\n",
              "      <td>-14</td>\n",
              "      <td>35</td>\n",
              "      <td>44.0</td>\n",
              "      <td>31.0</td>\n",
              "      <td>44.0</td>\n",
              "      <td>46.0</td>\n",
              "      <td>38.0</td>\n",
              "      <td>26.0</td>\n",
              "      <td>48.0</td>\n",
              "      <td>50.0</td>\n",
              "      <td>44.0</td>\n",
              "      <td>2.0</td>\n",
              "      <td>-38.0</td>\n",
              "      <td>33.0</td>\n",
              "      <td>60.0</td>\n",
              "      <td>66.0</td>\n",
              "      <td>-69.0</td>\n",
              "      <td>53.0</td>\n",
              "      <td>2017-11-08 16:48:10</td>\n",
              "      <td>4098.0</td>\n",
              "      <td>True</td>\n",
              "      <td>41.0</td>\n",
              "      <td>-56.0</td>\n",
              "      <td>21.0</td>\n",
              "      <td>-73.0</td>\n",
              "      <td>46.0</td>\n",
              "      <td>48.0</td>\n",
              "      <td>28.0</td>\n",
              "      <td>22.0</td>\n",
              "      <td>36.0</td>\n",
              "      <td>52.0</td>\n",
              "      <td>30.0</td>\n",
              "      <td>20.0</td>\n",
              "      <td>40.0</td>\n",
              "      <td>55.0</td>\n",
              "      <td>52.0</td>\n",
              "      <td>50.0</td>\n",
              "      <td>33.0</td>\n",
              "      <td>54.0</td>\n",
              "      <td>63.0</td>\n",
              "      <td>70.0</td>\n",
              "      <td>64.0</td>\n",
              "      <td>98.0</td>\n",
              "    </tr>\n",
              "    <tr>\n",
              "      <th>bro_002</th>\n",
              "      <td>2017-10-27 17:52:10</td>\n",
              "      <td>2327</td>\n",
              "      <td>True</td>\n",
              "      <td>-40</td>\n",
              "      <td>-61</td>\n",
              "      <td>78</td>\n",
              "      <td>35</td>\n",
              "      <td>46</td>\n",
              "      <td>52</td>\n",
              "      <td>74.0</td>\n",
              "      <td>22.0</td>\n",
              "      <td>45.0</td>\n",
              "      <td>65.0</td>\n",
              "      <td>38.0</td>\n",
              "      <td>76.0</td>\n",
              "      <td>80.0</td>\n",
              "      <td>87.0</td>\n",
              "      <td>40.0</td>\n",
              "      <td>82.0</td>\n",
              "      <td>82.0</td>\n",
              "      <td>63.0</td>\n",
              "      <td>42.0</td>\n",
              "      <td>38.0</td>\n",
              "      <td>27.0</td>\n",
              "      <td>48.0</td>\n",
              "      <td>2017-11-10 16:53:28</td>\n",
              "      <td>4032.0</td>\n",
              "      <td>True</td>\n",
              "      <td>38.0</td>\n",
              "      <td>-34.0</td>\n",
              "      <td>29.0</td>\n",
              "      <td>3.0</td>\n",
              "      <td>81.0</td>\n",
              "      <td>51.0</td>\n",
              "      <td>-13.0</td>\n",
              "      <td>-40.0</td>\n",
              "      <td>43.0</td>\n",
              "      <td>37.0</td>\n",
              "      <td>38.0</td>\n",
              "      <td>39.0</td>\n",
              "      <td>41.0</td>\n",
              "      <td>68.0</td>\n",
              "      <td>41.0</td>\n",
              "      <td>42.0</td>\n",
              "      <td>42.0</td>\n",
              "      <td>32.0</td>\n",
              "      <td>18.0</td>\n",
              "      <td>17.0</td>\n",
              "      <td>43.0</td>\n",
              "      <td>48.0</td>\n",
              "    </tr>\n",
              "    <tr>\n",
              "      <th>bro_003</th>\n",
              "      <td>2018-01-27 09:33:54</td>\n",
              "      <td>5401</td>\n",
              "      <td>True</td>\n",
              "      <td>20</td>\n",
              "      <td>20</td>\n",
              "      <td>63</td>\n",
              "      <td>78</td>\n",
              "      <td>40</td>\n",
              "      <td>66</td>\n",
              "      <td>37.0</td>\n",
              "      <td>35.0</td>\n",
              "      <td>26.0</td>\n",
              "      <td>30.0</td>\n",
              "      <td>41.0</td>\n",
              "      <td>64.0</td>\n",
              "      <td>36.0</td>\n",
              "      <td>41.0</td>\n",
              "      <td>41.0</td>\n",
              "      <td>17.0</td>\n",
              "      <td>54.0</td>\n",
              "      <td>66.0</td>\n",
              "      <td>72.0</td>\n",
              "      <td>68.0</td>\n",
              "      <td>57.0</td>\n",
              "      <td>78.0</td>\n",
              "      <td>2018-02-14 18:03:42</td>\n",
              "      <td>3586.0</td>\n",
              "      <td>True</td>\n",
              "      <td>41.0</td>\n",
              "      <td>9.0</td>\n",
              "      <td>37.0</td>\n",
              "      <td>37.0</td>\n",
              "      <td>41.0</td>\n",
              "      <td>47.0</td>\n",
              "      <td>61.0</td>\n",
              "      <td>24.0</td>\n",
              "      <td>31.0</td>\n",
              "      <td>58.0</td>\n",
              "      <td>23.0</td>\n",
              "      <td>14.0</td>\n",
              "      <td>6.0</td>\n",
              "      <td>39.0</td>\n",
              "      <td>62.0</td>\n",
              "      <td>50.0</td>\n",
              "      <td>40.0</td>\n",
              "      <td>70.0</td>\n",
              "      <td>60.0</td>\n",
              "      <td>51.0</td>\n",
              "      <td>49.0</td>\n",
              "      <td>73.0</td>\n",
              "    </tr>\n",
              "    <tr>\n",
              "      <th>bro_004</th>\n",
              "      <td>2018-03-06 17:12:25</td>\n",
              "      <td>10093</td>\n",
              "      <td>True</td>\n",
              "      <td>37</td>\n",
              "      <td>16</td>\n",
              "      <td>95</td>\n",
              "      <td>34</td>\n",
              "      <td>29</td>\n",
              "      <td>56</td>\n",
              "      <td>43.0</td>\n",
              "      <td>24.0</td>\n",
              "      <td>51.0</td>\n",
              "      <td>59.0</td>\n",
              "      <td>-25.0</td>\n",
              "      <td>-38.0</td>\n",
              "      <td>25.0</td>\n",
              "      <td>63.0</td>\n",
              "      <td>40.0</td>\n",
              "      <td>27.0</td>\n",
              "      <td>28.0</td>\n",
              "      <td>31.0</td>\n",
              "      <td>59.0</td>\n",
              "      <td>38.0</td>\n",
              "      <td>26.0</td>\n",
              "      <td>30.0</td>\n",
              "      <td>2018-04-06 08:18:54</td>\n",
              "      <td>5223.0</td>\n",
              "      <td>True</td>\n",
              "      <td>-20.0</td>\n",
              "      <td>15.0</td>\n",
              "      <td>43.0</td>\n",
              "      <td>38.0</td>\n",
              "      <td>40.0</td>\n",
              "      <td>47.0</td>\n",
              "      <td>39.0</td>\n",
              "      <td>33.0</td>\n",
              "      <td>34.0</td>\n",
              "      <td>37.0</td>\n",
              "      <td>-40.0</td>\n",
              "      <td>-38.0</td>\n",
              "      <td>18.0</td>\n",
              "      <td>55.0</td>\n",
              "      <td>37.0</td>\n",
              "      <td>23.0</td>\n",
              "      <td>40.0</td>\n",
              "      <td>32.0</td>\n",
              "      <td>47.0</td>\n",
              "      <td>39.0</td>\n",
              "      <td>44.0</td>\n",
              "      <td>31.0</td>\n",
              "    </tr>\n",
              "    <tr>\n",
              "      <th>bro_006</th>\n",
              "      <td>2018-01-06 08:28:37</td>\n",
              "      <td>3742</td>\n",
              "      <td>True</td>\n",
              "      <td>18</td>\n",
              "      <td>-13</td>\n",
              "      <td>21</td>\n",
              "      <td>-36</td>\n",
              "      <td>77</td>\n",
              "      <td>65</td>\n",
              "      <td>-13.0</td>\n",
              "      <td>-37.0</td>\n",
              "      <td>25.0</td>\n",
              "      <td>58.0</td>\n",
              "      <td>42.0</td>\n",
              "      <td>11.0</td>\n",
              "      <td>15.0</td>\n",
              "      <td>66.0</td>\n",
              "      <td>31.0</td>\n",
              "      <td>10.0</td>\n",
              "      <td>45.0</td>\n",
              "      <td>24.0</td>\n",
              "      <td>37.0</td>\n",
              "      <td>24.0</td>\n",
              "      <td>43.0</td>\n",
              "      <td>35.0</td>\n",
              "      <td>2018-01-20 08:34:38</td>\n",
              "      <td>3887.0</td>\n",
              "      <td>True</td>\n",
              "      <td>-11.0</td>\n",
              "      <td>7.0</td>\n",
              "      <td>11.0</td>\n",
              "      <td>-72.0</td>\n",
              "      <td>46.0</td>\n",
              "      <td>74.0</td>\n",
              "      <td>-7.0</td>\n",
              "      <td>-62.0</td>\n",
              "      <td>26.0</td>\n",
              "      <td>33.0</td>\n",
              "      <td>20.0</td>\n",
              "      <td>-61.0</td>\n",
              "      <td>44.0</td>\n",
              "      <td>43.0</td>\n",
              "      <td>30.0</td>\n",
              "      <td>-10.0</td>\n",
              "      <td>46.0</td>\n",
              "      <td>42.0</td>\n",
              "      <td>31.0</td>\n",
              "      <td>9.0</td>\n",
              "      <td>31.0</td>\n",
              "      <td>45.0</td>\n",
              "    </tr>\n",
              "  </tbody>\n",
              "</table>\n",
              "</div>"
            ],
            "text/plain": [
              "                      StartDate_v1  ...  dorintense_1_v2\n",
              "participantID                       ...                 \n",
              "bro_001        2017-10-25 16:22:54  ...             98.0\n",
              "bro_002        2017-10-27 17:52:10  ...             48.0\n",
              "bro_003        2018-01-27 09:33:54  ...             73.0\n",
              "bro_004        2018-03-06 17:12:25  ...             31.0\n",
              "bro_006        2018-01-06 08:28:37  ...             45.0\n",
              "\n",
              "[5 rows x 50 columns]"
            ]
          },
          "metadata": {
            "tags": []
          },
          "execution_count": 50
        }
      ]
    },
    {
      "cell_type": "code",
      "metadata": {
        "id": "GKuG_EqlyOnu",
        "colab_type": "code",
        "colab": {
          "base_uri": "https://localhost:8080/",
          "height": 235
        },
        "outputId": "46c5a64c-4796-43e7-fe61-0459ebb9b5d8"
      },
      "source": [
        "taq_data.head()"
      ],
      "execution_count": 51,
      "outputs": [
        {
          "output_type": "execute_result",
          "data": {
            "text/html": [
              "<div>\n",
              "<style scoped>\n",
              "    .dataframe tbody tr th:only-of-type {\n",
              "        vertical-align: middle;\n",
              "    }\n",
              "\n",
              "    .dataframe tbody tr th {\n",
              "        vertical-align: top;\n",
              "    }\n",
              "\n",
              "    .dataframe thead th {\n",
              "        text-align: right;\n",
              "    }\n",
              "</style>\n",
              "<table border=\"1\" class=\"dataframe\">\n",
              "  <thead>\n",
              "    <tr style=\"text-align: right;\">\n",
              "      <th></th>\n",
              "      <th>taqstatus</th>\n",
              "    </tr>\n",
              "    <tr>\n",
              "      <th>participantID</th>\n",
              "      <th></th>\n",
              "    </tr>\n",
              "  </thead>\n",
              "  <tbody>\n",
              "    <tr>\n",
              "      <th>bro_001</th>\n",
              "      <td>A2/A2</td>\n",
              "    </tr>\n",
              "    <tr>\n",
              "      <th>bro_002</th>\n",
              "      <td>A1/A1</td>\n",
              "    </tr>\n",
              "    <tr>\n",
              "      <th>bro_003</th>\n",
              "      <td>A1/A2</td>\n",
              "    </tr>\n",
              "    <tr>\n",
              "      <th>bro_004</th>\n",
              "      <td>A1/A2</td>\n",
              "    </tr>\n",
              "    <tr>\n",
              "      <th>bro_005</th>\n",
              "      <td>A2/A2</td>\n",
              "    </tr>\n",
              "  </tbody>\n",
              "</table>\n",
              "</div>"
            ],
            "text/plain": [
              "              taqstatus\n",
              "participantID          \n",
              "bro_001           A2/A2\n",
              "bro_002           A1/A1\n",
              "bro_003           A1/A2\n",
              "bro_004           A1/A2\n",
              "bro_005           A2/A2"
            ]
          },
          "metadata": {
            "tags": []
          },
          "execution_count": 51
        }
      ]
    },
    {
      "cell_type": "markdown",
      "metadata": {
        "id": "OQ00V34C09GM",
        "colab_type": "text"
      },
      "source": [
        "Apply descriptive statistics to view a subset of column statistics."
      ]
    },
    {
      "cell_type": "code",
      "metadata": {
        "id": "QcMUOINJ1CoK",
        "colab_type": "code",
        "colab": {
          "base_uri": "https://localhost:8080/",
          "height": 317
        },
        "outputId": "f58c6909-2c7b-468f-c4a9-058f4c45cde9"
      },
      "source": [
        "desire_milk_stats=round(vas_data.filter(regex=\"milkshake*\",axis=1).describe(),2)\n",
        "desire_milk_stats"
      ],
      "execution_count": 52,
      "outputs": [
        {
          "output_type": "execute_result",
          "data": {
            "text/html": [
              "<div>\n",
              "<style scoped>\n",
              "    .dataframe tbody tr th:only-of-type {\n",
              "        vertical-align: middle;\n",
              "    }\n",
              "\n",
              "    .dataframe tbody tr th {\n",
              "        vertical-align: top;\n",
              "    }\n",
              "\n",
              "    .dataframe thead th {\n",
              "        text-align: right;\n",
              "    }\n",
              "</style>\n",
              "<table border=\"1\" class=\"dataframe\">\n",
              "  <thead>\n",
              "    <tr style=\"text-align: right;\">\n",
              "      <th></th>\n",
              "      <th>milkshakepleasant_1_v1</th>\n",
              "      <th>milkshakedesire_1_v1</th>\n",
              "      <th>milkshakesweet_1_v1</th>\n",
              "      <th>milkshakeintense_1_v1</th>\n",
              "      <th>milkshakepleasant_1_v2</th>\n",
              "      <th>milkshakedesire_1_v2</th>\n",
              "      <th>milkshakesweet_1_v2</th>\n",
              "      <th>milkshakeintense_1_v2</th>\n",
              "    </tr>\n",
              "  </thead>\n",
              "  <tbody>\n",
              "    <tr>\n",
              "      <th>count</th>\n",
              "      <td>54.00</td>\n",
              "      <td>54.00</td>\n",
              "      <td>54.00</td>\n",
              "      <td>54.00</td>\n",
              "      <td>48.00</td>\n",
              "      <td>48.00</td>\n",
              "      <td>48.00</td>\n",
              "      <td>48.00</td>\n",
              "    </tr>\n",
              "    <tr>\n",
              "      <th>mean</th>\n",
              "      <td>26.87</td>\n",
              "      <td>-1.09</td>\n",
              "      <td>45.07</td>\n",
              "      <td>51.24</td>\n",
              "      <td>18.50</td>\n",
              "      <td>-11.38</td>\n",
              "      <td>42.25</td>\n",
              "      <td>52.35</td>\n",
              "    </tr>\n",
              "    <tr>\n",
              "      <th>std</th>\n",
              "      <td>30.53</td>\n",
              "      <td>39.84</td>\n",
              "      <td>23.02</td>\n",
              "      <td>15.56</td>\n",
              "      <td>30.36</td>\n",
              "      <td>39.25</td>\n",
              "      <td>29.47</td>\n",
              "      <td>18.97</td>\n",
              "    </tr>\n",
              "    <tr>\n",
              "      <th>min</th>\n",
              "      <td>-68.00</td>\n",
              "      <td>-100.00</td>\n",
              "      <td>-14.00</td>\n",
              "      <td>28.00</td>\n",
              "      <td>-100.00</td>\n",
              "      <td>-100.00</td>\n",
              "      <td>-100.00</td>\n",
              "      <td>0.00</td>\n",
              "    </tr>\n",
              "    <tr>\n",
              "      <th>25%</th>\n",
              "      <td>20.00</td>\n",
              "      <td>-36.00</td>\n",
              "      <td>33.00</td>\n",
              "      <td>39.25</td>\n",
              "      <td>14.00</td>\n",
              "      <td>-37.25</td>\n",
              "      <td>32.00</td>\n",
              "      <td>41.50</td>\n",
              "    </tr>\n",
              "    <tr>\n",
              "      <th>50%</th>\n",
              "      <td>30.00</td>\n",
              "      <td>13.00</td>\n",
              "      <td>41.50</td>\n",
              "      <td>49.50</td>\n",
              "      <td>22.00</td>\n",
              "      <td>-1.00</td>\n",
              "      <td>43.00</td>\n",
              "      <td>50.00</td>\n",
              "    </tr>\n",
              "    <tr>\n",
              "      <th>75%</th>\n",
              "      <td>42.75</td>\n",
              "      <td>28.00</td>\n",
              "      <td>63.00</td>\n",
              "      <td>63.00</td>\n",
              "      <td>37.00</td>\n",
              "      <td>19.75</td>\n",
              "      <td>57.25</td>\n",
              "      <td>66.25</td>\n",
              "    </tr>\n",
              "    <tr>\n",
              "      <th>max</th>\n",
              "      <td>95.00</td>\n",
              "      <td>78.00</td>\n",
              "      <td>100.00</td>\n",
              "      <td>98.00</td>\n",
              "      <td>64.00</td>\n",
              "      <td>48.00</td>\n",
              "      <td>100.00</td>\n",
              "      <td>100.00</td>\n",
              "    </tr>\n",
              "  </tbody>\n",
              "</table>\n",
              "</div>"
            ],
            "text/plain": [
              "       milkshakepleasant_1_v1  ...  milkshakeintense_1_v2\n",
              "count                   54.00  ...                  48.00\n",
              "mean                    26.87  ...                  52.35\n",
              "std                     30.53  ...                  18.97\n",
              "min                    -68.00  ...                   0.00\n",
              "25%                     20.00  ...                  41.50\n",
              "50%                     30.00  ...                  50.00\n",
              "75%                     42.75  ...                  66.25\n",
              "max                     95.00  ...                 100.00\n",
              "\n",
              "[8 rows x 8 columns]"
            ]
          },
          "metadata": {
            "tags": []
          },
          "execution_count": 52
        }
      ]
    },
    {
      "cell_type": "code",
      "metadata": {
        "id": "xlYYgm8m3pDJ",
        "colab_type": "code",
        "colab": {
          "base_uri": "https://localhost:8080/",
          "height": 272
        },
        "outputId": "893b3ed5-41c6-40b1-e0e4-d5d96effb0c1"
      },
      "source": [
        "milkshake_data=vas_data.filter(regex=\"milkshake*\",axis=1)\n",
        "milkshake_data.info()"
      ],
      "execution_count": 65,
      "outputs": [
        {
          "output_type": "stream",
          "text": [
            "<class 'pandas.core.frame.DataFrame'>\n",
            "Index: 54 entries, bro_001 to bro_056\n",
            "Data columns (total 8 columns):\n",
            " #   Column                  Non-Null Count  Dtype  \n",
            "---  ------                  --------------  -----  \n",
            " 0   milkshakepleasant_1_v1  54 non-null     int64  \n",
            " 1   milkshakedesire_1_v1    54 non-null     int64  \n",
            " 2   milkshakesweet_1_v1     54 non-null     int64  \n",
            " 3   milkshakeintense_1_v1   54 non-null     int64  \n",
            " 4   milkshakepleasant_1_v2  48 non-null     float64\n",
            " 5   milkshakedesire_1_v2    48 non-null     float64\n",
            " 6   milkshakesweet_1_v2     48 non-null     float64\n",
            " 7   milkshakeintense_1_v2   48 non-null     float64\n",
            "dtypes: float64(4), int64(4)\n",
            "memory usage: 6.3+ KB\n"
          ],
          "name": "stdout"
        }
      ]
    },
    {
      "cell_type": "code",
      "metadata": {
        "id": "1SOU2vgd32en",
        "colab_type": "code",
        "colab": {
          "base_uri": "https://localhost:8080/",
          "height": 122
        },
        "outputId": "ac343ba1-f8c8-49e6-93bd-a698dc8ab654"
      },
      "source": [
        "milkshake_data.fillna(method='pad', inplace=True)"
      ],
      "execution_count": 69,
      "outputs": [
        {
          "output_type": "stream",
          "text": [
            "/usr/local/lib/python3.6/dist-packages/pandas/core/frame.py:4153: SettingWithCopyWarning: \n",
            "A value is trying to be set on a copy of a slice from a DataFrame\n",
            "\n",
            "See the caveats in the documentation: https://pandas.pydata.org/pandas-docs/stable/user_guide/indexing.html#returning-a-view-versus-a-copy\n",
            "  downcast=downcast,\n"
          ],
          "name": "stderr"
        }
      ]
    },
    {
      "cell_type": "code",
      "metadata": {
        "id": "EEx6ade44cIg",
        "colab_type": "code",
        "colab": {
          "base_uri": "https://localhost:8080/",
          "height": 272
        },
        "outputId": "8a047d5d-b105-47e1-edfe-ebed35076b76"
      },
      "source": [
        "milkshake_data.info()"
      ],
      "execution_count": 70,
      "outputs": [
        {
          "output_type": "stream",
          "text": [
            "<class 'pandas.core.frame.DataFrame'>\n",
            "Index: 54 entries, bro_001 to bro_056\n",
            "Data columns (total 8 columns):\n",
            " #   Column                  Non-Null Count  Dtype  \n",
            "---  ------                  --------------  -----  \n",
            " 0   milkshakepleasant_1_v1  54 non-null     int64  \n",
            " 1   milkshakedesire_1_v1    54 non-null     int64  \n",
            " 2   milkshakesweet_1_v1     54 non-null     int64  \n",
            " 3   milkshakeintense_1_v1   54 non-null     int64  \n",
            " 4   milkshakepleasant_1_v2  54 non-null     float64\n",
            " 5   milkshakedesire_1_v2    54 non-null     float64\n",
            " 6   milkshakesweet_1_v2     54 non-null     float64\n",
            " 7   milkshakeintense_1_v2   54 non-null     float64\n",
            "dtypes: float64(4), int64(4)\n",
            "memory usage: 6.3+ KB\n"
          ],
          "name": "stdout"
        }
      ]
    },
    {
      "cell_type": "code",
      "metadata": {
        "id": "_rbs2_qE4cML",
        "colab_type": "code",
        "colab": {}
      },
      "source": [
        ""
      ],
      "execution_count": 0,
      "outputs": []
    },
    {
      "cell_type": "code",
      "metadata": {
        "id": "GrXMnoUX2T-b",
        "colab_type": "code",
        "colab": {
          "base_uri": "https://localhost:8080/",
          "height": 173
        },
        "outputId": "b56a85c9-4e80-48d1-a79e-d2c8a7247a91"
      },
      "source": [
        "taq_stats=round(taq_data.describe(),2)\n",
        "taq_stats"
      ],
      "execution_count": 53,
      "outputs": [
        {
          "output_type": "execute_result",
          "data": {
            "text/html": [
              "<div>\n",
              "<style scoped>\n",
              "    .dataframe tbody tr th:only-of-type {\n",
              "        vertical-align: middle;\n",
              "    }\n",
              "\n",
              "    .dataframe tbody tr th {\n",
              "        vertical-align: top;\n",
              "    }\n",
              "\n",
              "    .dataframe thead th {\n",
              "        text-align: right;\n",
              "    }\n",
              "</style>\n",
              "<table border=\"1\" class=\"dataframe\">\n",
              "  <thead>\n",
              "    <tr style=\"text-align: right;\">\n",
              "      <th></th>\n",
              "      <th>taqstatus</th>\n",
              "    </tr>\n",
              "  </thead>\n",
              "  <tbody>\n",
              "    <tr>\n",
              "      <th>count</th>\n",
              "      <td>55</td>\n",
              "    </tr>\n",
              "    <tr>\n",
              "      <th>unique</th>\n",
              "      <td>3</td>\n",
              "    </tr>\n",
              "    <tr>\n",
              "      <th>top</th>\n",
              "      <td>A1/A2</td>\n",
              "    </tr>\n",
              "    <tr>\n",
              "      <th>freq</th>\n",
              "      <td>27</td>\n",
              "    </tr>\n",
              "  </tbody>\n",
              "</table>\n",
              "</div>"
            ],
            "text/plain": [
              "       taqstatus\n",
              "count         55\n",
              "unique         3\n",
              "top        A1/A2\n",
              "freq          27"
            ]
          },
          "metadata": {
            "tags": []
          },
          "execution_count": 53
        }
      ]
    },
    {
      "cell_type": "markdown",
      "metadata": {
        "id": "LwBgNroN09KZ",
        "colab_type": "text"
      },
      "source": [
        ""
      ]
    },
    {
      "cell_type": "markdown",
      "metadata": {
        "id": "UbzscovE3IKR",
        "colab_type": "text"
      },
      "source": [
        ""
      ]
    },
    {
      "cell_type": "markdown",
      "metadata": {
        "id": "TiRCSBGm09O1",
        "colab_type": "text"
      },
      "source": [
        ""
      ]
    },
    {
      "cell_type": "code",
      "metadata": {
        "id": "ToAMVwoc0q9q",
        "colab_type": "code",
        "colab": {}
      },
      "source": [
        "#"
      ],
      "execution_count": 0,
      "outputs": []
    }
  ]
}